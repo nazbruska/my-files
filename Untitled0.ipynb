{
  "nbformat": 4,
  "nbformat_minor": 0,
  "metadata": {
    "colab": {
      "provenance": [],
      "collapsed_sections": []
    },
    "kernelspec": {
      "name": "python3",
      "display_name": "Python 3"
    },
    "language_info": {
      "name": "python"
    }
  },
  "cells": [
    {
      "cell_type": "code",
      "execution_count": 4,
      "metadata": {
        "colab": {
          "base_uri": "https://localhost:8080/",
          "height": 131
        },
        "id": "jnaYiDSDIROt",
        "outputId": "92cd644e-4680-4e08-fcee-3e586f00a399"
      },
      "outputs": [
        {
          "output_type": "error",
          "ename": "IndentationError",
          "evalue": "ignored",
          "traceback": [
            "\u001b[0;36m  File \u001b[0;32m\"<tokenize>\"\u001b[0;36m, line \u001b[0;32m24\u001b[0m\n\u001b[0;31m    else:\u001b[0m\n\u001b[0m    ^\u001b[0m\n\u001b[0;31mIndentationError\u001b[0m\u001b[0;31m:\u001b[0m unindent does not match any outer indentation level\n"
          ]
        }
      ],
      "source": [
        "def bisection_method(func,a,b, error_accept):\n",
        "\n",
        "  def f(x):\n",
        "    f=eval(func)\n",
        "    return f\n",
        "\n",
        "    error=abs(b-a)\n",
        "\n",
        "    while error > error_accept:\n",
        "    c =(b+a) / 2\n",
        "\n",
        "    if f(a)*f(b)>=0:\n",
        "      print(\"no root or multiple roots present , therefore , the bisection method will not work\")\n",
        "      quit()\n",
        "\n",
        "      elif f(c)*f(a)<0:\n",
        "        b=c\n",
        "        error = abs(b-a)\n",
        "\n",
        "        elif f(c)*f(b)<0:\n",
        "        a=c\n",
        "        error = abs(b-a)\n",
        "\n",
        "       else:\n",
        "         print (\"something went wrong\") \n",
        "         quit()\n",
        "\n",
        "         print (f\"the error is {error}\")\n",
        "         print (f\"the lower boundary,a, is {a} and the upper boundary, b, is {b}\")\n",
        "\n",
        "\n",
        "         bisection_method(\"(4*x ** 3) + 3*x -3 \",0,1,0.05)\n",
        "         bisection_method(\"(3*x ** 2) -4 \",-2,0,0.05)\n",
        "         \n"
      ]
    }
  ]
}